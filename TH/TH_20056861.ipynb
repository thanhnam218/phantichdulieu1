{
 "cells": [
  {
   "cell_type": "code",
   "execution_count": 1,
   "metadata": {},
   "outputs": [],
   "source": [
    "import pandas as pd\n",
    "import seaborn as sns\n",
    "import matplotlib.pyplot as plt\n",
    "import numpy as np"
   ]
  },
  {
   "cell_type": "code",
   "execution_count": 4,
   "metadata": {},
   "outputs": [
    {
     "data": {
      "text/html": [
       "<div>\n",
       "<style scoped>\n",
       "    .dataframe tbody tr th:only-of-type {\n",
       "        vertical-align: middle;\n",
       "    }\n",
       "\n",
       "    .dataframe tbody tr th {\n",
       "        vertical-align: top;\n",
       "    }\n",
       "\n",
       "    .dataframe thead th {\n",
       "        text-align: right;\n",
       "    }\n",
       "</style>\n",
       "<table border=\"1\" class=\"dataframe\">\n",
       "  <thead>\n",
       "    <tr style=\"text-align: right;\">\n",
       "      <th></th>\n",
       "      <th>Sức khỏe</th>\n",
       "      <th>Thời tiết</th>\n",
       "      <th>Kết quả</th>\n",
       "    </tr>\n",
       "  </thead>\n",
       "  <tbody>\n",
       "    <tr>\n",
       "      <th>0</th>\n",
       "      <td>ốm</td>\n",
       "      <td>u ám</td>\n",
       "      <td>có</td>\n",
       "    </tr>\n",
       "    <tr>\n",
       "      <th>1</th>\n",
       "      <td>ốm</td>\n",
       "      <td>mưa</td>\n",
       "      <td>có</td>\n",
       "    </tr>\n",
       "    <tr>\n",
       "      <th>2</th>\n",
       "      <td>ốm</td>\n",
       "      <td>nắng</td>\n",
       "      <td>không</td>\n",
       "    </tr>\n",
       "    <tr>\n",
       "      <th>3</th>\n",
       "      <td>ốm</td>\n",
       "      <td>u ám</td>\n",
       "      <td>có</td>\n",
       "    </tr>\n",
       "    <tr>\n",
       "      <th>4</th>\n",
       "      <td>tốt</td>\n",
       "      <td>u ám</td>\n",
       "      <td>không</td>\n",
       "    </tr>\n",
       "    <tr>\n",
       "      <th>5</th>\n",
       "      <td>tốt</td>\n",
       "      <td>mưa</td>\n",
       "      <td>không</td>\n",
       "    </tr>\n",
       "    <tr>\n",
       "      <th>6</th>\n",
       "      <td>tốt</td>\n",
       "      <td>nắng</td>\n",
       "      <td>có</td>\n",
       "    </tr>\n",
       "  </tbody>\n",
       "</table>\n",
       "</div>"
      ],
      "text/plain": [
       "  Sức khỏe Thời tiết Kết quả\n",
       "0       ốm      u ám      có\n",
       "1       ốm       mưa      có\n",
       "2       ốm      nắng   không\n",
       "3       ốm      u ám      có\n",
       "4      tốt      u ám   không\n",
       "5      tốt       mưa   không\n",
       "6      tốt      nắng      có"
      ]
     },
     "execution_count": 4,
     "metadata": {},
     "output_type": "execute_result"
    }
   ],
   "source": [
    "df = pd.read_excel('lophoc.xlsx', sheet_name=\"data\")\n",
    "df.head(10)"
   ]
  },
  {
   "cell_type": "code",
   "execution_count": 6,
   "metadata": {},
   "outputs": [
    {
     "name": "stdout",
     "output_type": "stream",
     "text": [
      "Entropy of the \"Kết quả\" column: 0.9852281360342515\n"
     ]
    }
   ],
   "source": [
    "def entropy(column):\n",
    "    # Get the value counts and normalize to get probabilities\n",
    "    probabilities = column.value_counts(normalize=True)\n",
    "    # Calculate entropy\n",
    "    return -np.sum(probabilities * np.log2(probabilities))\n",
    "\n",
    "# Calculate entropy for the 'Kết quả' column\n",
    "result_entropy = entropy(df['Kết quả'])\n",
    "\n",
    "print(f'Entropy of the \"Kết quả\" column: {result_entropy}')"
   ]
  },
  {
   "cell_type": "code",
   "execution_count": null,
   "metadata": {},
   "outputs": [],
   "source": [
    "from sklearn.tree import DecisionTreeClassifier\n",
    "from sklearn_model_selection import train\n",
    "from sklearn.tree import DecisionTreeClassifier"
   ]
  }
 ],
 "metadata": {
  "kernelspec": {
   "display_name": "Python 3",
   "language": "python",
   "name": "python3"
  },
  "language_info": {
   "codemirror_mode": {
    "name": "ipython",
    "version": 3
   },
   "file_extension": ".py",
   "mimetype": "text/x-python",
   "name": "python",
   "nbconvert_exporter": "python",
   "pygments_lexer": "ipython3",
   "version": "3.12.5"
  }
 },
 "nbformat": 4,
 "nbformat_minor": 2
}
