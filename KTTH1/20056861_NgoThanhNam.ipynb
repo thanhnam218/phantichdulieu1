{
 "cells": [
  {
   "cell_type": "code",
   "execution_count": 7,
   "metadata": {},
   "outputs": [],
   "source": [
    "import pandas as pd\n",
    "import matplotlib.pylab as plt\n",
    "import numpy as np"
   ]
  },
  {
   "cell_type": "code",
   "execution_count": 13,
   "metadata": {},
   "outputs": [
    {
     "data": {
      "text/html": [
       "<div>\n",
       "<style scoped>\n",
       "    .dataframe tbody tr th:only-of-type {\n",
       "        vertical-align: middle;\n",
       "    }\n",
       "\n",
       "    .dataframe tbody tr th {\n",
       "        vertical-align: top;\n",
       "    }\n",
       "\n",
       "    .dataframe thead th {\n",
       "        text-align: right;\n",
       "    }\n",
       "</style>\n",
       "<table border=\"1\" class=\"dataframe\">\n",
       "  <thead>\n",
       "    <tr style=\"text-align: right;\">\n",
       "      <th></th>\n",
       "      <th>ORDERNUMBER</th>\n",
       "      <th>QUANTITYORDERED</th>\n",
       "      <th>ORDERLINENUMBER</th>\n",
       "      <th>SALES</th>\n",
       "      <th>ORDERDATE</th>\n",
       "      <th>STATUS</th>\n",
       "      <th>COUNTRY</th>\n",
       "      <th>DEALSIZE</th>\n",
       "      <th>Discount</th>\n",
       "      <th>Profit</th>\n",
       "    </tr>\n",
       "  </thead>\n",
       "  <tbody>\n",
       "    <tr>\n",
       "      <th>0</th>\n",
       "      <td>10107</td>\n",
       "      <td>30</td>\n",
       "      <td>2</td>\n",
       "      <td>2871.00</td>\n",
       "      <td>2003-02-24</td>\n",
       "      <td>Shipped</td>\n",
       "      <td>USA</td>\n",
       "      <td>Small</td>\n",
       "      <td>0.00</td>\n",
       "      <td>41.9136</td>\n",
       "    </tr>\n",
       "    <tr>\n",
       "      <th>1</th>\n",
       "      <td>10121</td>\n",
       "      <td>34</td>\n",
       "      <td>5</td>\n",
       "      <td>2765.90</td>\n",
       "      <td>2003-05-07</td>\n",
       "      <td>Shipped</td>\n",
       "      <td>France</td>\n",
       "      <td>Small</td>\n",
       "      <td>0.00</td>\n",
       "      <td>219.5820</td>\n",
       "    </tr>\n",
       "    <tr>\n",
       "      <th>2</th>\n",
       "      <td>10134</td>\n",
       "      <td>41</td>\n",
       "      <td>2</td>\n",
       "      <td>3884.34</td>\n",
       "      <td>2003-07-01</td>\n",
       "      <td>Shipped</td>\n",
       "      <td>France</td>\n",
       "      <td>Medium</td>\n",
       "      <td>0.00</td>\n",
       "      <td>6.8714</td>\n",
       "    </tr>\n",
       "    <tr>\n",
       "      <th>3</th>\n",
       "      <td>10145</td>\n",
       "      <td>45</td>\n",
       "      <td>6</td>\n",
       "      <td>3746.70</td>\n",
       "      <td>2003-08-25</td>\n",
       "      <td>Shipped</td>\n",
       "      <td>USA</td>\n",
       "      <td>Medium</td>\n",
       "      <td>0.45</td>\n",
       "      <td>-383.0310</td>\n",
       "    </tr>\n",
       "    <tr>\n",
       "      <th>4</th>\n",
       "      <td>10159</td>\n",
       "      <td>49</td>\n",
       "      <td>14</td>\n",
       "      <td>5205.27</td>\n",
       "      <td>2003-10-10</td>\n",
       "      <td>Shipped</td>\n",
       "      <td>USA</td>\n",
       "      <td>Medium</td>\n",
       "      <td>0.20</td>\n",
       "      <td>2.5164</td>\n",
       "    </tr>\n",
       "  </tbody>\n",
       "</table>\n",
       "</div>"
      ],
      "text/plain": [
       "   ORDERNUMBER  QUANTITYORDERED  ORDERLINENUMBER    SALES  ORDERDATE   STATUS  \\\n",
       "0        10107               30                2  2871.00 2003-02-24  Shipped   \n",
       "1        10121               34                5  2765.90 2003-05-07  Shipped   \n",
       "2        10134               41                2  3884.34 2003-07-01  Shipped   \n",
       "3        10145               45                6  3746.70 2003-08-25  Shipped   \n",
       "4        10159               49               14  5205.27 2003-10-10  Shipped   \n",
       "\n",
       "  COUNTRY DEALSIZE  Discount    Profit  \n",
       "0     USA    Small      0.00   41.9136  \n",
       "1  France    Small      0.00  219.5820  \n",
       "2  France   Medium      0.00    6.8714  \n",
       "3     USA   Medium      0.45 -383.0310  \n",
       "4     USA   Medium      0.20    2.5164  "
      ]
     },
     "execution_count": 13,
     "metadata": {},
     "output_type": "execute_result"
    }
   ],
   "source": [
    "df = pd.read_excel('sales_data_sample.xlsx', sheet_name=\"saledata\")\n",
    "df.head(5)\n",
    "# df = pd.read_excel('./sales_data_sample.xlsx',header=0,delimiter=',',encoding='utf-8')\n",
    "# df.head(5)"
   ]
  },
  {
   "cell_type": "code",
   "execution_count": 18,
   "metadata": {},
   "outputs": [
    {
     "name": "stdout",
     "output_type": "stream",
     "text": [
      "Quốc gia có tổng doanh số đặt hàng nhiều thứ 5 là: 478880.46\n"
     ]
    }
   ],
   "source": [
    "total_sales_by_country = df.groupby('COUNTRY')['SALES'].sum()\n",
    "fifth_country_sales = total_sales_by_country.sort_values(ascending=False).iloc[4]\n",
    "print(f\"Quốc gia có tổng doanh số đặt hàng nhiều thứ 5 là: {fifth_country_sales}\")"
   ]
  },
  {
   "cell_type": "code",
   "execution_count": 20,
   "metadata": {},
   "outputs": [
    {
     "name": "stdout",
     "output_type": "stream",
     "text": [
      "Quốc gia có tổng doanh số đặt hàng nhiều thứ 5 là: UK\n"
     ]
    }
   ],
   "source": [
    "fifth_country = total_sales_by_country.sort_values(ascending=False).index[4]\n",
    "print(f\"Quốc gia có tổng doanh số đặt hàng nhiều thứ 5 là: {fifth_country}\")"
   ]
  },
  {
   "cell_type": "code",
   "execution_count": 21,
   "metadata": {},
   "outputs": [
    {
     "name": "stdout",
     "output_type": "stream",
     "text": [
      "Quốc gia có tổng doanh số đặt hàng nhiều thứ 5 là: UK\n"
     ]
    }
   ],
   "source": [
    "total_sales_by_country = df.groupby('COUNTRY')['SALES'].sum()\n",
    "\n",
    "# Sắp xếp tổng doanh số theo thứ tự giảm dần\n",
    "sorted_sales = total_sales_by_country.sort_values(ascending=False)\n",
    "\n",
    "# Lấy tên quốc gia thứ 5\n",
    "fifth_country = sorted_sales.index[4]\n",
    "\n",
    "# In kết quả\n",
    "print(f\"Quốc gia có tổng doanh số đặt hàng nhiều thứ 5 là: {fifth_country}\")"
   ]
  },
  {
   "cell_type": "code",
   "execution_count": 22,
   "metadata": {},
   "outputs": [
    {
     "name": "stdout",
     "output_type": "stream",
     "text": [
      "Độ lệch chuẩn của giá trị đặt hàng là: 1841.865105740182\n"
     ]
    }
   ],
   "source": [
    "# Tính độ lệch chuẩn của giá trị đặt hàng\n",
    "std_deviation = df['SALES'].std()\n",
    "\n",
    "# In kết quả\n",
    "print(f\"Độ lệch chuẩn của giá trị đặt hàng là: {std_deviation}\")"
   ]
  },
  {
   "cell_type": "code",
   "execution_count": 23,
   "metadata": {},
   "outputs": [
    {
     "name": "stdout",
     "output_type": "stream",
     "text": [
      "Độ lệch chuẩn của giá trị đặt hàng là: 1841.5388520655404\n"
     ]
    }
   ],
   "source": [
    "# Tính độ lệch chuẩn của giá trị đặt hàng\n",
    "std_deviation = df['SALES'].std(ddof=0)  # ddof=0 để tính độ lệch chuẩn mẫu\n",
    "\n",
    "# In kết quả\n",
    "print(f\"Độ lệch chuẩn của giá trị đặt hàng là: {std_deviation}\")"
   ]
  },
  {
   "cell_type": "code",
   "execution_count": 24,
   "metadata": {},
   "outputs": [
    {
     "name": "stdout",
     "output_type": "stream",
     "text": [
      "50    0.571492\n",
      "51    0.142230\n",
      "52    0.268965\n",
      "53    0.846934\n",
      "54    0.251044\n",
      "55    0.169972\n",
      "56    0.207757\n",
      "57    0.346367\n",
      "58    0.333417\n",
      "59    0.233724\n",
      "Name: SALES_scaled, dtype: float64\n"
     ]
    }
   ],
   "source": [
    "min_sales = df['SALES'].min()\n",
    "max_sales = df['SALES'].max()\n",
    "\n",
    "# Áp dụng Min-Max Scaler cho cột SALES\n",
    "df['SALES_scaled'] = (df['SALES'] - min_sales) / (max_sales - min_sales)\n",
    "\n",
    "# Lấy giá trị đã scale cho các index từ 50 đến 59\n",
    "scaled_values = df['SALES_scaled'].iloc[50:60]\n",
    "\n",
    "# In kết quả\n",
    "print(scaled_values)"
   ]
  },
  {
   "cell_type": "code",
   "execution_count": 28,
   "metadata": {},
   "outputs": [],
   "source": [
    "import pandas as pd\n",
    "from scipy import stats\n",
    "import matplotlib.pyplot as plt\n",
    "import seaborn as sns"
   ]
  },
  {
   "cell_type": "code",
   "execution_count": 29,
   "metadata": {},
   "outputs": [
    {
     "name": "stdout",
     "output_type": "stream",
     "text": [
      "Trung bình kích thước đặt hàng theo trạng thái giao hàng:\n",
      " STATUS\n",
      "Cancelled     33.966667\n",
      "Disputed      42.642857\n",
      "In Process    36.341463\n",
      "On Hold       42.704545\n",
      "Resolved      35.319149\n",
      "Shipped       34.926634\n",
      "Name: QUANTITYORDERED, dtype: float64\n",
      "\n",
      "Kết quả kiểm định ANOVA: F-statistic = 7.594976898797586, p-value = 4.252819127064215e-07\n"
     ]
    },
    {
     "data": {
      "image/png": "[encoded data removed]",
      "text/plain": [
       "<Figure size 1000x600 with 1 Axes>"
      ]
     },
     "metadata": {},
     "output_type": "display_data"
    }
   ],
   "source": [
    "mean_quantity_by_status = df.groupby('STATUS')['QUANTITYORDERED'].mean()\n",
    "print(\"Trung bình kích thước đặt hàng theo trạng thái giao hàng:\\n\", mean_quantity_by_status)\n",
    "\n",
    "# Kiểm định ANOVA\n",
    "anova_result = stats.f_oneway(\n",
    "    *(df[df['STATUS'] == status]['QUANTITYORDERED'] for status in df['STATUS'].unique())\n",
    ")\n",
    "\n",
    "print(f\"\\nKết quả kiểm định ANOVA: F-statistic = {anova_result.statistic}, p-value = {anova_result.pvalue}\")\n",
    "\n",
    "# Vẽ biểu đồ hộp\n",
    "plt.figure(figsize=(10, 6))\n",
    "sns.boxplot(x='STATUS', y='QUANTITYORDERED', data=df)\n",
    "plt.title('Kích thước đặt hàng theo trạng thái giao hàng')\n",
    "plt.ylabel('Kích thước đặt hàng')\n",
    "plt.xlabel('Trạng thái giao hàng')\n",
    "plt.show()"
   ]
  },
  {
   "cell_type": "code",
   "execution_count": 30,
   "metadata": {},
   "outputs": [
    {
     "name": "stdout",
     "output_type": "stream",
     "text": [
      "Số lượng quốc gia đã đặt hàng tại công ty ABC là: 19\n"
     ]
    }
   ],
   "source": [
    "# Lấy danh sách các quốc gia duy nhất\n",
    "unique_countries = df['COUNTRY'].unique()\n",
    "\n",
    "# Tính số lượng quốc gia\n",
    "number_of_countries = len(unique_countries)\n",
    "\n",
    "# In kết quả\n",
    "print(f\"Số lượng quốc gia đã đặt hàng tại công ty ABC là: {number_of_countries}\")"
   ]
  },
  {
   "cell_type": "code",
   "execution_count": 31,
   "metadata": {},
   "outputs": [
    {
     "name": "stdout",
     "output_type": "stream",
     "text": [
      "Giá trị tại index = 100 sau khi được scale là: -0.053543911213573936\n"
     ]
    }
   ],
   "source": [
    "import pandas as pd\n",
    "from sklearn.preprocessing import StandardScaler, MaxAbsScaler\n",
    "\n",
    "# Đọc dữ liệu từ file Excel\n",
    "df = pd.read_excel('sales_data_sample.xlsx')\n",
    "\n",
    "# Tạo đối tượng Z-Score Scaler\n",
    "z_score_scaler = StandardScaler()\n",
    "\n",
    "# Áp dụng Z-Score Scaler cho cột SALES\n",
    "df['SALES_z_scaled'] = z_score_scaler.fit_transform(df[['SALES']])\n",
    "\n",
    "# Tạo đối tượng Max Absolute Scaler\n",
    "max_abs_scaler = MaxAbsScaler()\n",
    "\n",
    "# Áp dụng Max Absolute Scaler cho cột SALES đã được Z-Score Scaled\n",
    "df['SALES_final_scaled'] = max_abs_scaler.fit_transform(df[['SALES_z_scaled']])\n",
    "\n",
    "# Lấy giá trị đã scale cho index = 100\n",
    "scaled_value_index_100 = df['SALES_final_scaled'].iloc[100]\n",
    "\n",
    "# In kết quả\n",
    "print(f\"Giá trị tại index = 100 sau khi được scale là: {scaled_value_index_100}\")"
   ]
  },
  {
   "cell_type": "code",
   "execution_count": 32,
   "metadata": {},
   "outputs": [
    {
     "name": "stdout",
     "output_type": "stream",
     "text": [
      "Thứ tự mức độ ổn định tăng dần của giá trị bán hàng theo kích thước đặt hàng:\n",
      "DEALSIZE\n",
      "Small      577.183322\n",
      "Medium    1047.090148\n",
      "Large     1294.739895\n",
      "Name: SALES, dtype: float64\n"
     ]
    }
   ],
   "source": [
    "# Tính độ lệch chuẩn của SALES cho từng nhóm kích thước đặt hàng\n",
    "std_dev_by_dealsize = df.groupby('DEALSIZE')['SALES'].std()\n",
    "\n",
    "# Sắp xếp độ lệch chuẩn theo thứ tự tăng dần\n",
    "sorted_std_dev = std_dev_by_dealsize.sort_values()\n",
    "\n",
    "# In kết quả\n",
    "print(\"Thứ tự mức độ ổn định tăng dần của giá trị bán hàng theo kích thước đặt hàng:\")\n",
    "print(sorted_std_dev)"
   ]
  },
  {
   "cell_type": "code",
   "execution_count": 33,
   "metadata": {},
   "outputs": [
    {
     "name": "stdout",
     "output_type": "stream",
     "text": [
      "Giá trị trước chuẩn hóa là: 4014.3553483443616\n"
     ]
    }
   ],
   "source": [
    "# Tính giá trị trung bình và độ lệch chuẩn của cột SALES\n",
    "mean_sales = df['SALES'].mean()\n",
    "std_sales = df['SALES'].std()\n",
    "\n",
    "# Giá trị Z-Score\n",
    "z_score = 0.25\n",
    "\n",
    "# Tính giá trị trước chuẩn hóa\n",
    "original_value = z_score * std_sales + mean_sales\n",
    "\n",
    "# In kết quả\n",
    "print(f\"Giá trị trước chuẩn hóa là: {original_value}\")"
   ]
  },
  {
   "cell_type": "code",
   "execution_count": 34,
   "metadata": {},
   "outputs": [
    {
     "name": "stdout",
     "output_type": "stream",
     "text": [
      "Số lượng hàng: 2823\n",
      "Số lượng cột: 12\n"
     ]
    }
   ],
   "source": [
    "data_shape = df.shape\n",
    "\n",
    "# In kết quả\n",
    "print(f\"Số lượng hàng: {data_shape[0]}\")\n",
    "print(f\"Số lượng cột: {data_shape[1]}\")"
   ]
  },
  {
   "cell_type": "code",
   "execution_count": 35,
   "metadata": {},
   "outputs": [
    {
     "name": "stdout",
     "output_type": "stream",
     "text": [
      "Giá trị 10000 sau khi được scale bằng Z-Score là: 3.499773630545118\n"
     ]
    }
   ],
   "source": [
    "# Tính giá trị trung bình và độ lệch chuẩn của cột SALES\n",
    "mean_sales = df['SALES'].mean()\n",
    "std_sales = df['SALES'].std()\n",
    "\n",
    "# Giá trị cần tính Z-Score\n",
    "value_to_scale = 10000\n",
    "\n",
    "# Tính Z-Score\n",
    "z_score = (value_to_scale - mean_sales) / std_sales\n",
    "\n",
    "# In kết quả\n",
    "print(f\"Giá trị 10000 sau khi được scale bằng Z-Score là: {z_score}\")"
   ]
  },
  {
   "cell_type": "code",
   "execution_count": 37,
   "metadata": {},
   "outputs": [
    {
     "name": "stdout",
     "output_type": "stream",
     "text": [
      "Kurtosis của giá trị đặt hàng là: 0.4128831579388397\n",
      "Mức độ nhọn của giá trị đặt hàng là: Platykurtic\n"
     ]
    }
   ],
   "source": [
    "import pandas as pd\n",
    "from scipy.stats import kurtosis\n",
    "# Tính kurtosis của cột QUANTITYORDERED\n",
    "kurtosis_value = kurtosis(df['QUANTITYORDERED'])\n",
    "\n",
    "# Xác định mức độ nhọn\n",
    "if kurtosis_value < 3:\n",
    "    kurtosis_type = 'Platykurtic'\n",
    "elif kurtosis_value > 3:\n",
    "    kurtosis_type = 'Leptokurtic'\n",
    "else:\n",
    "    kurtosis_type = 'Mesokurtic'\n",
    "\n",
    "# In kết quả\n",
    "print(f\"Kurtosis của giá trị đặt hàng là: {kurtosis_value}\")\n",
    "print(f\"Mức độ nhọn của giá trị đặt hàng là: {kurtosis_type}\")"
   ]
  },
  {
   "cell_type": "code",
   "execution_count": 38,
   "metadata": {},
   "outputs": [
    {
     "data": {
      "image/png": "[encoded data removed]",
      "text/plain": [
       "<Figure size 1000x600 with 1 Axes>"
      ]
     },
     "metadata": {},
     "output_type": "display_data"
    }
   ],
   "source": [
    "# Vẽ biểu đồ boxplot\n",
    "plt.figure(figsize=(10, 6))\n",
    "sns.boxplot(x='DEALSIZE', y='SALES', data=df)\n",
    "plt.title('Doanh số theo từng nhóm kích thước đặt hàng')\n",
    "plt.ylabel('Doanh số')\n",
    "plt.xlabel('Kích thước đặt hàng')\n",
    "plt.show()"
   ]
  },
  {
   "cell_type": "code",
   "execution_count": 39,
   "metadata": {},
   "outputs": [
    {
     "name": "stdout",
     "output_type": "stream",
     "text": [
      "Tổng doanh số đặt hàng ở quốc gia thứ 5 là: 478880.46\n"
     ]
    }
   ],
   "source": [
    "# Tính tổng doanh số theo quốc gia\n",
    "total_sales_by_country = df.groupby('COUNTRY')['SALES'].sum()\n",
    "\n",
    "# Sắp xếp tổng doanh số theo thứ tự giảm dần và lấy quốc gia thứ 5\n",
    "fifth_country_sales = total_sales_by_country.sort_values(ascending=False).iloc[4]\n",
    "\n",
    "# In kết quả\n",
    "print(f\"Tổng doanh số đặt hàng ở quốc gia thứ 5 là: {fifth_country_sales}\")"
   ]
  },
  {
   "cell_type": "code",
   "execution_count": 40,
   "metadata": {},
   "outputs": [
    {
     "name": "stdout",
     "output_type": "stream",
     "text": [
      "Quốc gia có tổng doanh số đặt hàng nhiều thứ 5 là: UK\n"
     ]
    }
   ],
   "source": [
    "total_sales_by_country = df.groupby('COUNTRY')['SALES'].sum()\n",
    "\n",
    "# Sắp xếp tổng doanh số theo thứ tự giảm dần\n",
    "sorted_sales = total_sales_by_country.sort_values(ascending=False)\n",
    "\n",
    "# Lấy tên quốc gia thứ 5\n",
    "fifth_country = sorted_sales.index[4]\n",
    "\n",
    "# In kết quả\n",
    "print(f\"Quốc gia có tổng doanh số đặt hàng nhiều thứ 5 là: {fifth_country}\")"
   ]
  },
  {
   "cell_type": "code",
   "execution_count": 41,
   "metadata": {},
   "outputs": [
    {
     "name": "stdout",
     "output_type": "stream",
     "text": [
      "Quốc gia có tổng doanh số đặt hàng nhiều thứ 4 là: Australia\n"
     ]
    }
   ],
   "source": [
    "# Sắp xếp tổng doanh số theo thứ tự giảm dần\n",
    "sorted_sales = total_sales_by_country.sort_values(ascending=False)\n",
    "\n",
    "# Lấy tên quốc gia thứ 4\n",
    "fourth_country = sorted_sales.index[3]\n",
    "\n",
    "# In kết quả\n",
    "print(f\"Quốc gia có tổng doanh số đặt hàng nhiều thứ 4 là: {fourth_country}\")"
   ]
  },
  {
   "cell_type": "code",
   "execution_count": 42,
   "metadata": {},
   "outputs": [
    {
     "name": "stdout",
     "output_type": "stream",
     "text": [
      "10 quốc gia có tổng doanh số đặt hàng nhiều nhất:\n",
      "COUNTRY\n",
      "USA          3627982.83\n",
      "Spain        1215686.92\n",
      "France       1110916.52\n",
      "Australia     630623.10\n",
      "UK            478880.46\n",
      "Italy         374674.31\n",
      "Finland       329581.91\n",
      "Norway        307463.70\n",
      "Singapore     288488.41\n",
      "Denmark       245637.15\n",
      "Name: SALES, dtype: float64\n"
     ]
    }
   ],
   "source": [
    "# Tính tổng doanh số theo quốc gia\n",
    "total_sales_by_country = df.groupby('COUNTRY')['SALES'].sum()\n",
    "\n",
    "# Sắp xếp tổng doanh số theo thứ tự giảm dần và lấy 10 quốc gia đầu\n",
    "top_10_countries = total_sales_by_country.sort_values(ascending=False).head(10)\n",
    "\n",
    "# In kết quả\n",
    "print(\"10 quốc gia có tổng doanh số đặt hàng nhiều nhất:\")\n",
    "print(top_10_countries)"
   ]
  },
  {
   "cell_type": "code",
   "execution_count": 43,
   "metadata": {},
   "outputs": [
    {
     "name": "stdout",
     "output_type": "stream",
     "text": [
      "Độ lệch chuẩn của giá trị đặt hàng là: 9.741442737069592\n"
     ]
    }
   ],
   "source": [
    "# Tính độ lệch chuẩn của giá trị đặt hàng\n",
    "std_deviation = df['QUANTITYORDERED'].std()\n",
    "\n",
    "# In kết quả\n",
    "print(f\"Độ lệch chuẩn của giá trị đặt hàng là: {std_deviation}\")"
   ]
  },
  {
   "cell_type": "code",
   "execution_count": 44,
   "metadata": {},
   "outputs": [
    {
     "name": "stdout",
     "output_type": "stream",
     "text": [
      "Độ lệch chuẩn của giá trị đặt hàng là: 9.739717213588326\n"
     ]
    }
   ],
   "source": [
    "# Tính độ lệch chuẩn của giá trị đặt hàng\n",
    "# ddof=0 tính độ lệch chuẩn cho toàn bộ dữ liệu (phương sai mẫu)\n",
    "std_deviation = df['QUANTITYORDERED'].std(ddof=0)\n",
    "\n",
    "# In kết quả\n",
    "print(f\"Độ lệch chuẩn của giá trị đặt hàng là: {std_deviation}\")"
   ]
  },
  {
   "cell_type": "code",
   "execution_count": 45,
   "metadata": {},
   "outputs": [
    {
     "name": "stdout",
     "output_type": "stream",
     "text": [
      "Các nhóm STATUS chỉ có 2 cột:\n",
      "Series([], Name: count, dtype: int64)\n"
     ]
    },
    {
     "data": {
      "image/png": "[encoded data removed]",
      "text/plain": [
       "<Figure size 800x500 with 1 Axes>"
      ]
     },
     "metadata": {},
     "output_type": "display_data"
    }
   ],
   "source": [
    "status_counts = df['STATUS'].value_counts()\n",
    "\n",
    "# Lấy các nhóm chỉ có 2 cột\n",
    "two_columns_status = status_counts[status_counts == 2]\n",
    "\n",
    "# In kết quả\n",
    "print(\"Các nhóm STATUS chỉ có 2 cột:\")\n",
    "print(two_columns_status)\n",
    "\n",
    "# Vẽ biểu đồ\n",
    "plt.figure(figsize=(8, 5))\n",
    "status_counts.plot(kind='bar')\n",
    "plt.title('Số lượng từng nhóm STATUS')\n",
    "plt.xlabel('Trạng thái')\n",
    "plt.ylabel('Số lượng')\n",
    "plt.xticks(rotation=45)\n",
    "plt.show()"
   ]
  }
 ],
 "metadata": {
  "kernelspec": {
   "display_name": "Python 3",
   "language": "python",
   "name": "python3"
  },
  "language_info": {
   "codemirror_mode": {
    "name": "ipython",
    "version": 3
   },
   "file_extension": ".py",
   "mimetype": "text/x-python",
   "name": "python",
   "nbconvert_exporter": "python",
   "pygments_lexer": "ipython3",
   "version": "3.12.5"
  }
 },
 "nbformat": 4,
 "nbformat_minor": 2
}
